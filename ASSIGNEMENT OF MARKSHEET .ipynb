{
 "cells": [
  {
   "cell_type": "markdown",
   "metadata": {},
   "source": [
    "ASSIGNMENT OF MARKSHEET"
   ]
  },
  {
   "cell_type": "code",
   "execution_count": 2,
   "metadata": {},
   "outputs": [
    {
     "name": "stdout",
     "output_type": "stream",
     "text": [
      "ENTER YOUR NAME ?muhammad arsalan akber\n",
      "ENTER FATHER NAME ?muhamad akber\n",
      "ENTER YOUR NATIONALITY ?pakistani\n",
      "ENTER YOUR RELIGION ?islam\n",
      "ENTER YOUR CLASS ?matric\n",
      "ENTER MATHEMATICS MARKS ?98\n",
      "ENTER ENGLISH MARKS ?56\n",
      "ENTER PHYSICS MARKS ?45\n",
      "ENTER URDU MARKS ?67\n",
      "ENTER CHEMISTRY MARKS ?78\n",
      "STUDENT NAME :  MUHAMMAD ARSALAN AKBER\n",
      "fATHER NAME : MUHAMAD AKBER\n",
      "NATIONALITY : PAKISTANI\n",
      "RELIGION :  ISLAM\n",
      "CLASS : MATRIC\n",
      "TOTAL MARK : 500\n",
      "MARK OBTAINED : 344\n",
      "PERCENTAGE : 68.8\n",
      "GRADE : C FAIR\n",
      "END PROGRAM\n"
     ]
    }
   ],
   "source": [
    "name =input(\"ENTER YOUR NAME ?\").upper()\n",
    "fname =input(\"ENTER FATHER NAME ?\").upper()\n",
    "nation =input(\"ENTER YOUR NATIONALITY ?\").upper()\n",
    "religion =input(\"ENTER YOUR RELIGION ?\").upper()\n",
    "cl=input(\"ENTER YOUR CLASS ?\").upper()\n",
    "math =int(input(\"ENTER MATHEMATICS MARKS ?\"))\n",
    "eng =int(input(\"ENTER ENGLISH MARKS ?\"))\n",
    "phy =int(input(\"ENTER PHYSICS MARKS ?\"))\n",
    "urd =int(input(\"ENTER URDU MARKS ?\"))\n",
    "chem =int(input(\"ENTER CHEMISTRY MARKS ?\"))\n",
    "total_mark = 500\n",
    "t = total_mark\n",
    "a = math\n",
    "b = eng\n",
    "c = phy\n",
    "d = urd\n",
    "e = chem\n",
    "mark_obtained = a + b + c + d + e\n",
    "m = mark_obtained\n",
    "percentage = (m/t)*100\n",
    "p = percentage\n",
    "h = (\"AA EXCELLENT PERFORMANCE\")\n",
    "i = (\"A EXCELLENT\")\n",
    "j = (\"B GOOD\")\n",
    "k = (\"C FAIR\")\n",
    "l = (\"D NEED IMPROVEMENT\")\n",
    "f = (\"F VERY DISAPPOINTING\")\n",
    "print (\"STUDENT NAME : \",name)\n",
    "print (\"fATHER NAME :\",fname)\n",
    "print (\"NATIONALITY :\",nation)\n",
    "print (\"RELIGION : \",religion)\n",
    "print (\"CLASS :\",cl)\n",
    "print (\"TOTAL MARK :\",t)\n",
    "print (\"MARK OBTAINED :\",m)\n",
    "print (\"PERCENTAGE :\",p)\n",
    "if p>=90:\n",
    "    print (\"GRADE :\",h)\n",
    "elif p>=80:\n",
    "    print (\"GRADE :\",i)\n",
    "elif p>=70:\n",
    "    print (\"GRADE :\",j)\n",
    "elif p>=60:\n",
    "    print (\"GRADE :\",k)\n",
    "elif p>=50:\n",
    "    print (\"GRADE :\",l)\n",
    "else:\n",
    "    print (\"GRADE :\",f)\n",
    "print (\"END PROGRAM\")"
   ]
  },
  {
   "cell_type": "markdown",
   "metadata": {},
   "source": []
  }
 ],
 "metadata": {
  "kernelspec": {
   "display_name": "Python 3",
   "language": "python",
   "name": "python3"
  },
  "language_info": {
   "codemirror_mode": {
    "name": "ipython",
    "version": 3
   },
   "file_extension": ".py",
   "mimetype": "text/x-python",
   "name": "python",
   "nbconvert_exporter": "python",
   "pygments_lexer": "ipython3",
   "version": "3.7.3"
  }
 },
 "nbformat": 4,
 "nbformat_minor": 2
}
